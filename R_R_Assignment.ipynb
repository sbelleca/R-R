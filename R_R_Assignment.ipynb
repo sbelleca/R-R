{
  "nbformat": 4,
  "nbformat_minor": 0,
  "metadata": {
    "colab": {
      "provenance": []
    },
    "kernelspec": {
      "name": "python3",
      "display_name": "Python 3"
    },
    "language_info": {
      "name": "python"
    }
  },
  "cells": [
    {
      "cell_type": "code",
      "execution_count": 5,
      "metadata": {
        "colab": {
          "base_uri": "https://localhost:8080/"
        },
        "id": "q9pL5UJXBmrq",
        "outputId": "46dfef4e-b07b-4aa0-bf31-4870c709e25a"
      },
      "outputs": [
        {
          "output_type": "stream",
          "name": "stdout",
          "text": [
            "2023-11-01\n",
            "Hello Fred!\n",
            "See equation below:\n",
            "2 * 5 = 10\n"
          ]
        }
      ],
      "source": [
        "import datetime\n",
        "\n",
        "today = datetime.date.today()\n",
        "\n",
        "print(today)\n",
        "\n",
        "print(\"Hello Fred!\")\n",
        "\n",
        "print(\"See equation below:\")\n",
        "\n",
        "equation = \"2 * 5 = 10\"\n",
        "print(equation)\n"
      ]
    },
    {
      "cell_type": "code",
      "source": [],
      "metadata": {
        "id": "RRWoe56DBpuN"
      },
      "execution_count": null,
      "outputs": []
    }
  ]
}